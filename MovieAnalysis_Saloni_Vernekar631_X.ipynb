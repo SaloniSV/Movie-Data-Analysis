{
 "cells": [
  {
   "cell_type": "markdown",
   "metadata": {},
   "source": [
    "# Movie Dataset Analysis (Project One)"
   ]
  },
  {
   "cell_type": "markdown",
   "metadata": {},
   "source": [
    "## Submitted by - Saloni S Vernekar"
   ]
  },
  {
   "cell_type": "markdown",
   "metadata": {},
   "source": [
    "### Q1) Load the csv file (Top_10000_Movies_assignmnet.csv)"
   ]
  },
  {
   "cell_type": "code",
   "execution_count": null,
   "metadata": {
    "scrolled": true
   },
   "outputs": [],
   "source": [
    "import numpy as np\n",
    "import pandas as pd\n",
    "assignment=pd.read_csv(\"Top_10000_Movies_assignmnet.csv\",encoding=\"latin-1\",engine='python')\n",
    "display(assignment)"
   ]
  },
  {
   "cell_type": "code",
   "execution_count": null,
   "metadata": {
    "collapsed": true,
    "scrolled": false
   },
   "outputs": [],
   "source": [
    "assignment.describe()"
   ]
  },
  {
   "cell_type": "markdown",
   "metadata": {},
   "source": [
    "### Q2) How many total record are there which have a valid id?"
   ]
  },
  {
   "cell_type": "code",
   "execution_count": 106,
   "metadata": {
    "scrolled": true
   },
   "outputs": [
    {
     "name": "stdout",
     "output_type": "stream",
     "text": [
      "There are 10005 records with a valid ID\n"
     ]
    }
   ],
   "source": [
    "valid_id= assignment.dropna(subset=['id'])\n",
    "total_valid_id = valid_id.shape[0]\n",
    "print(\"There are\",str(total_valid_id)+\" records with a valid ID\")"
   ]
  },
  {
   "cell_type": "markdown",
   "metadata": {},
   "source": [
    "### Q3) How many original language are found in the dataset?"
   ]
  },
  {
   "cell_type": "code",
   "execution_count": 107,
   "metadata": {
    "scrolled": true
   },
   "outputs": [
    {
     "name": "stdout",
     "output_type": "stream",
     "text": [
      "There are 49 original languages in the dataset.\n"
     ]
    }
   ],
   "source": [
    "original_languages = assignment['original_language'].nunique()\n",
    "print(\"There are \"+str(original_languages)+ \" original languages in the dataset.\")"
   ]
  },
  {
   "cell_type": "markdown",
   "metadata": {},
   "source": [
    "### Q4) Show count for all languages? Meaning if there were 107 moves in English or 47 in Japanese or 10 in Hindi etc."
   ]
  },
  {
   "cell_type": "code",
   "execution_count": 108,
   "metadata": {
    "scrolled": true
   },
   "outputs": [
    {
     "name": "stdout",
     "output_type": "stream",
     "text": [
      "The count for all languages are given below:\n",
      " en    7799\n",
      "ja     610\n",
      "es     417\n",
      "fr     293\n",
      "ko     141\n",
      "it     104\n",
      "zh     103\n",
      "cn      79\n",
      "de      78\n",
      "ru      69\n",
      "pt      55\n",
      "hi      30\n",
      "da      30\n",
      "no      24\n",
      "sv      22\n",
      "pl      19\n",
      "nl      19\n",
      "id      15\n",
      "th      15\n",
      "tr      10\n",
      "he       9\n",
      "fi       6\n",
      "cs       6\n",
      "fa       5\n",
      "uk       5\n",
      "sr       4\n",
      "hu       4\n",
      "lv       3\n",
      "el       3\n",
      "te       3\n",
      "tl       3\n",
      "eu       2\n",
      "ro       2\n",
      "is       2\n",
      "ta       2\n",
      "ar       1\n",
      "ka       1\n",
      "ml       1\n",
      "ga       1\n",
      "ms       1\n",
      "be       1\n",
      "0        1\n",
      "bn       1\n",
      "6        1\n",
      "ur       1\n",
      "la       1\n",
      "nb       1\n",
      "sk       1\n",
      "ca       1\n",
      "Name: original_language, dtype: int64\n"
     ]
    }
   ],
   "source": [
    "print(\"The count for all languages are given below:\\n\", assignment['original_language'].value_counts())"
   ]
  },
  {
   "cell_type": "markdown",
   "metadata": {},
   "source": [
    "### Q5)Convert original_language to full English name like en should be English, ja should be Japanese etc."
   ]
  },
  {
   "cell_type": "code",
   "execution_count": null,
   "metadata": {
    "collapsed": true,
    "scrolled": false
   },
   "outputs": [],
   "source": [
    "!pip install langdetect "
   ]
  },
  {
   "cell_type": "code",
   "execution_count": null,
   "metadata": {
    "collapsed": true,
    "scrolled": true
   },
   "outputs": [],
   "source": [
    "!pip install pycountry"
   ]
  },
  {
   "cell_type": "code",
   "execution_count": 109,
   "metadata": {
    "collapsed": true,
    "scrolled": false
   },
   "outputs": [],
   "source": [
    "from langdetect import detect\n",
    "import pycountry"
   ]
  },
  {
   "cell_type": "code",
   "execution_count": 110,
   "metadata": {
    "collapsed": true,
    "scrolled": true
   },
   "outputs": [],
   "source": [
    "Languages = assignment['original_language'].unique()"
   ]
  },
  {
   "cell_type": "code",
   "execution_count": 111,
   "metadata": {
    "scrolled": true
   },
   "outputs": [
    {
     "name": "stdout",
     "output_type": "stream",
     "text": [
      "Languages in the dataset: \n",
      "\n",
      "['Chinese', 'Urdu', 'Ukrainian', 'Turkish', 'Tagalog', 'Thai', 'Telugu', 'Tamil', 'Swedish', 'Serbian', 'Slovak', 'Russian', 'Romanian', 'Portuguese', 'Polish', 'Norwegian', 'Dutch', 'Norwegian Bokmål', 'Malay (macrolanguage)', 'Malayalam', 'Latvian', 'Latin', 'Korean', 'Georgian', 'Japanese', 'Italian', 'Icelandic', 'Indonesian', 'Hungarian', 'Hindi', 'Hebrew', 'Irish', 'French', 'Finnish', 'Persian', 'Basque', 'Spanish', 'English', 'Modern Greek (1453-)', 'German', 'Danish', 'Czech', 'Unknown', 'Catalan', 'Bengali', 'Belarusian', 'Arabic', 'Unknown', 'Unknown', 'Unknown']\n"
     ]
    }
   ],
   "source": [
    "LANG = []\n",
    "\n",
    "for lang in Languages:\n",
    "    try:\n",
    "        # Attempt to get the language name\n",
    "        language = pycountry.languages.get(alpha_2=lang)\n",
    "        if language:\n",
    "            LANG.append(language.name)\n",
    "        else:\n",
    "            # If language not found, append 'Unknown'\n",
    "            LANG.append('Unknown')\n",
    "    except LookupError:\n",
    "        # If there's a lookup error, append 'Unknown'\n",
    "        LANG.append('Unknown')\n",
    "\n",
    "print(\"Languages in the dataset: \\n\")\n",
    "print(LANG)"
   ]
  },
  {
   "cell_type": "markdown",
   "metadata": {},
   "source": [
    "### Q6) How many original_title and described in English? You need to show the work that you are removing the other languages from the dataset."
   ]
  },
  {
   "cell_type": "code",
   "execution_count": 113,
   "metadata": {
    "scrolled": true
   },
   "outputs": [
    {
     "name": "stdout",
     "output_type": "stream",
     "text": [
      "The number of Original title described in English are : 7799\n"
     ]
    }
   ],
   "source": [
    "english_title=assignment[assignment['original_language']=='en']\n",
    "print(\"The number of Original title described in English are :\",len(english_title))\n",
    "#display(english_title)"
   ]
  },
  {
   "cell_type": "markdown",
   "metadata": {},
   "source": [
    "### Q7) Which is the most popular (look at popularity) movie, give its name (original_title)?"
   ]
  },
  {
   "cell_type": "code",
   "execution_count": 114,
   "metadata": {
    "scrolled": false
   },
   "outputs": [
    {
     "name": "stdout",
     "output_type": "stream",
     "text": [
      "The most popular movie hs a popularity index of 6800.0\n",
      "The most popular movie does not have its title recorded and is instead nan\n"
     ]
    }
   ],
   "source": [
    "most_popular=assignment.loc[assignment['popularity'].idxmax()]\n",
    "print(\"The most popular movie hs a popularity index of\",most_popular['popularity'])\n",
    "#display(most_popular)\n",
    "title= (most_popular['original_title'])\n",
    "print(\"The most popular movie does not have its title recorded and is instead\",title)"
   ]
  },
  {
   "cell_type": "markdown",
   "metadata": {},
   "source": [
    "### Q8) Which is the least popular (look at popularity) movie, give its name (original_title)?"
   ]
  },
  {
   "cell_type": "code",
   "execution_count": 115,
   "metadata": {
    "scrolled": false
   },
   "outputs": [
    {
     "name": "stdout",
     "output_type": "stream",
     "text": [
      "The least popular movie has a popularity index of 6.269\n",
      "The least popular movie is ÐÑÐ¾ÐºÐ»ÑÑÑÐ¹ ÑÐ¸Ð½Ð¾Ð²Ð½Ð¸Ðº\n"
     ]
    }
   ],
   "source": [
    "least_popular=assignment.loc[assignment['popularity'].idxmin()]\n",
    "print(\"The least popular movie has a popularity index of\",least_popular['popularity'])\n",
    "#display(least_popular)\n",
    "title= (least_popular['original_title'])\n",
    "print(\"The least popular movie is\",title)"
   ]
  },
  {
   "cell_type": "markdown",
   "metadata": {},
   "source": [
    "### Q9) Which move has the earliest release date in your dataset, give the date and the name of the movie?"
   ]
  },
  {
   "cell_type": "code",
   "execution_count": 116,
   "metadata": {
    "scrolled": false
   },
   "outputs": [
    {
     "name": "stdout",
     "output_type": "stream",
     "text": [
      "The earliest release date was on 1902-04-17 00:00:00 and the title of the movie was Le Voyage dans la Lune\n"
     ]
    }
   ],
   "source": [
    "assignment['release_date'] = pd.to_datetime(assignment['release_date'])\n",
    "#assignment['release_date'].head()\n",
    "earliest_release_date=(assignment.iloc[assignment['release_date'].argmin()])\n",
    "print(\"The earliest release date was on\",str(earliest_release_date['release_date']) + \" and the title of the movie was\",earliest_release_date['original_title'])"
   ]
  },
  {
   "cell_type": "markdown",
   "metadata": {},
   "source": [
    "### Q10)Which move has the latest release date in your dataset, give the date and the name of the movie?"
   ]
  },
  {
   "cell_type": "code",
   "execution_count": 117,
   "metadata": {
    "scrolled": true
   },
   "outputs": [
    {
     "name": "stdout",
     "output_type": "stream",
     "text": [
      "The latest release date is on 2028-12-20 00:00:00 and the title of the movie is Avatar 5\n"
     ]
    }
   ],
   "source": [
    "assignment['release_date'] = pd.to_datetime(assignment['release_date'])\n",
    "#assignment['release_date'].head()\n",
    "latest_release_date=(assignment.iloc[assignment['release_date'].argmax()])\n",
    "print(\"The latest release date is on\",str(latest_release_date['release_date']) + \" and the title of the movie is\",latest_release_date['original_title'])"
   ]
  },
  {
   "cell_type": "markdown",
   "metadata": {},
   "source": [
    "### Q12) What is the highest vote_count of a movie, give the name and the vote count."
   ]
  },
  {
   "cell_type": "code",
   "execution_count": 118,
   "metadata": {
    "scrolled": false
   },
   "outputs": [
    {
     "name": "stdout",
     "output_type": "stream",
     "text": [
      "The highest vote count for a movie is 30184.0 and the title of the movie is Inception\n"
     ]
    }
   ],
   "source": [
    "max_vote_count=assignment.loc[assignment['vote_count'].idxmax()]\n",
    "print('The highest vote count for a movie is',str(max_vote_count[\"vote_count\"])+\" and the title of the movie is\", max_vote_count['original_title'])\n"
   ]
  },
  {
   "cell_type": "markdown",
   "metadata": {},
   "source": [
    "### Q13) What is the average vote_count of all the movies, is this a good statics? Why or why not?"
   ]
  },
  {
   "cell_type": "code",
   "execution_count": 119,
   "metadata": {
    "scrolled": true
   },
   "outputs": [
    {
     "name": "stdout",
     "output_type": "stream",
     "text": [
      "The average vote count for all the movies is 1314.8725382385285\n",
      "\n",
      "However, this is not a good statistic because for 10017 rows the average is amounting to just 1314.8 which indicates that there are many missing values present in the dataset.\n"
     ]
    }
   ],
   "source": [
    "vote_avg=(assignment['vote_count'].mean())\n",
    "print(\"The average vote count for all the movies is\",vote_avg)\n",
    "print(\"\\nHowever, this is not a good statistic because for 10017 rows the average is amounting to just 1314.8 which indicates that there are many missing values present in the dataset.\")"
   ]
  },
  {
   "cell_type": "markdown",
   "metadata": {},
   "source": [
    "### Q14) What is the lowest vote_count of a movie, give the name and the vote count. (how would you treat “0” here?)"
   ]
  },
  {
   "cell_type": "code",
   "execution_count": 120,
   "metadata": {
    "scrolled": false
   },
   "outputs": [
    {
     "name": "stdout",
     "output_type": "stream",
     "text": [
      "The highest vote count for a movie is 0.0 and the title of the movie is ç½å¤©æ»æ¯å¤ªè¿æ¼«é¿\n",
      "Here, the value 0 is treated as either that no one voted for the movie or we can assume that during data entry the values were lost/misplaced/not recorded appropriately. \n"
     ]
    }
   ],
   "source": [
    "min_vote_count=assignment.loc[assignment['vote_count'].idxmin()]\n",
    "print('The highest vote count for a movie is',str(min_vote_count[\"vote_count\"])+\" and the title of the movie is\", min_vote_count['original_title'])\n",
    "print(\"Here, the value 0 is treated as either that no one voted for the movie or we can assume that during data entry the values were lost/misplaced/not recorded appropriately. \")"
   ]
  },
  {
   "cell_type": "markdown",
   "metadata": {},
   "source": [
    "### Observation : For the above question, there are multiple movies with a vote_count 0. However, I am displaying only the first movie that is fetched from the query."
   ]
  },
  {
   "cell_type": "markdown",
   "metadata": {},
   "source": [
    "### Q15)  How many \"English\" movies are there without tag lines?"
   ]
  },
  {
   "cell_type": "code",
   "execution_count": 121,
   "metadata": {
    "scrolled": true
   },
   "outputs": [
    {
     "name": "stdout",
     "output_type": "stream",
     "text": [
      "The number of English movies without any taglines is 1512\n"
     ]
    }
   ],
   "source": [
    "english_movies_without_taglines = assignment[(assignment['original_language'] == 'en') & assignment['tagline'].isnull()]\n",
    "#display(english_movies_without_taglines)\n",
    "print(\"The number of English movies without any taglines is\",len(english_movies_without_taglines))\n"
   ]
  },
  {
   "cell_type": "markdown",
   "metadata": {},
   "source": [
    "### Q16)  How many genre “['Science Fiction', 'Thriller']” movies are there?"
   ]
  },
  {
   "cell_type": "code",
   "execution_count": 122,
   "metadata": {
    "scrolled": true
   },
   "outputs": [
    {
     "name": "stdout",
     "output_type": "stream",
     "text": [
      "The number of “['Science Fiction', 'Thriller']” genre movies are 23\n"
     ]
    }
   ],
   "source": [
    "count = (assignment['genre']==\"['Science Fiction', 'Thriller']\").sum()\n",
    "print(\"The number of “['Science Fiction', 'Thriller']” genre movies are\",count)"
   ]
  },
  {
   "cell_type": "markdown",
   "metadata": {},
   "source": [
    "### Q17) How many blank records are there for genre?"
   ]
  },
  {
   "cell_type": "code",
   "execution_count": 123,
   "metadata": {
    "scrolled": true
   },
   "outputs": [
    {
     "name": "stdout",
     "output_type": "stream",
     "text": [
      "The number of blank records for genre are : 17\n"
     ]
    }
   ],
   "source": [
    "blank_records=pd.isnull(assignment['genre']).sum()\n",
    "print(\"The number of blank records for genre are :\",blank_records)"
   ]
  },
  {
   "cell_type": "markdown",
   "metadata": {},
   "source": [
    "### Q18)      Which English movie made the most money revenue in ['Thriller', 'Crime'] genre"
   ]
  },
  {
   "cell_type": "code",
   "execution_count": 124,
   "metadata": {
    "scrolled": true
   },
   "outputs": [
    {
     "name": "stdout",
     "output_type": "stream",
     "text": [
      "The English movie with the highest revenue in the ['Thriller', 'Crime'] genre is 'Ocean's Eleven' with a revenue of $450717150.00.\n"
     ]
    }
   ],
   "source": [
    "english_thriller_crime_movies = assignment[(assignment['genre'] == \"['Thriller', 'Crime']\") & (assignment['original_language'] == 'en')]\n",
    "max_revenue_movie = english_thriller_crime_movies.loc[english_thriller_crime_movies['revenue'].idxmax()]\n",
    "\n",
    "# Extract the movie title and revenue\n",
    "movie_title = max_revenue_movie['original_title']\n",
    "revenue = max_revenue_movie['revenue']\n",
    "\n",
    "print(f\"The English movie with the highest revenue in the ['Thriller', 'Crime'] genre is '{movie_title}' with a revenue of ${revenue:.2f}.\")"
   ]
  },
  {
   "cell_type": "markdown",
   "metadata": {},
   "source": [
    "### Q19) Which Japanese movie made the most money revenue in ['Action', 'Horror'] genre. Give the name of the movie (Can you convert the name in English? try)"
   ]
  },
  {
   "cell_type": "code",
   "execution_count": 125,
   "metadata": {
    "scrolled": true
   },
   "outputs": [
    {
     "name": "stdout",
     "output_type": "stream",
     "text": [
      "The Japanese movie with the highest revenue in the ['Action', 'Horror'] genre is 'ã¨ã¯ã¹ã¯ã­ã¹ãé­å¢ä¼èª¬' with a revenue of $0.00.\n"
     ]
    }
   ],
   "source": [
    "japanese_thriller_crime_movies = assignment[(assignment['genre'] == \"['Action', 'Horror']\") & (assignment['original_language'] == 'ja')]\n",
    "\n",
    "# Find the row with the maximum revenue among these movies\n",
    "max_revenue_movie = japanese_thriller_crime_movies.loc[japanese_thriller_crime_movies['revenue'].idxmax()]\n",
    "\n",
    "# Extract the movie title and revenue\n",
    "movie_title = max_revenue_movie['original_title']\n",
    "revenue = max_revenue_movie['revenue']\n",
    "\n",
    "print(f\"The Japanese movie with the highest revenue in the ['Action', 'Horror'] genre is '{movie_title}' with a revenue of ${revenue:.2f}.\")\n"
   ]
  },
  {
   "cell_type": "markdown",
   "metadata": {},
   "source": [
    "### Observation : For the above question, there is only one Japanese movie in the ['Action', 'Horror'] genre and the revenue recorded is 0."
   ]
  },
  {
   "cell_type": "code",
   "execution_count": null,
   "metadata": {
    "scrolled": false
   },
   "outputs": [],
   "source": [
    "import pandas as pd\n",
    "from googletrans import Translator\n",
    "translator = Translator()\n",
    "japanese_name = movie_title['original_title'].apply(translator.translate, src='ja', dest='en').apply(getattr, args=('text',))\n",
    "print(japanese_name)"
   ]
  },
  {
   "cell_type": "code",
   "execution_count": null,
   "metadata": {
    "scrolled": true
   },
   "outputs": [],
   "source": [
    "!pip install googletrans"
   ]
  },
  {
   "cell_type": "code",
   "execution_count": null,
   "metadata": {
    "scrolled": true
   },
   "outputs": [],
   "source": [
    "import pandas as pd\n",
    "from googletrans import Translator\n",
    "\n",
    "\n",
    "\n",
    "# Filter the DataFrame for Japanese movies in the ['Action', 'Horror'] genre\n",
    "japanese_action_horror_movies = assignment[(assignment['genre'] == \"['Action', 'Horror']\") & (assignment['original_language'] == 'ja')]\n",
    "\n",
    "# Find the row with the maximum revenue among these movies\n",
    "max_revenue_movie = japanese_action_horror_movies.loc[japanese_action_horror_movies['revenue'].idxmax()]\n",
    "\n",
    "# Extract the movie title and revenue\n",
    "movie_title = max_revenue_movie['original_title']\n",
    "revenue = max_revenue_movie['revenue']\n",
    "\n",
    "print(f\"The Japanese movie with the highest revenue in the ['Action', 'Horror'] genre is '{movie_title}' with a revenue of ${revenue:.2f}.\")\n",
    "\n",
    "# Translate the movie title from Japanese to English\n",
    "from googletrans import Translator\n",
    "translator = Translator()\n",
    "translated_title = translator.translate(movie_title, src='ja', dest='en').text\n",
    "\n",
    "# Print the translated movie title\n",
    "print(\"Translated title in English:\", translated_title)\n"
   ]
  },
  {
   "cell_type": "markdown",
   "metadata": {
    "collapsed": true
   },
   "source": [
    "### I have attempted two appraoches to convert the Japanese movie name to English, however it is not successful."
   ]
  },
  {
   "cell_type": "markdown",
   "metadata": {
    "collapsed": true
   },
   "source": [
    "### Q20) Which of the French movies has the longest run time, give all the details of this movie.  Where do you think this movie ranks in comparison to all the movies in the dataset."
   ]
  },
  {
   "cell_type": "code",
   "execution_count": 126,
   "metadata": {
    "scrolled": true
   },
   "outputs": [
    {
     "name": "stdout",
     "output_type": "stream",
     "text": [
      "French movie with the longest runtime:\n",
      "Unnamed: 0                                                        9578\n",
      "id                                                               11986\n",
      "original_language                                                   fr\n",
      "original_title                                          37Â°2 le matin\n",
      "popularity                                                       8.061\n",
      "release_date                                       1986-04-09 00:00:00\n",
      "vote_average                                                       7.3\n",
      "vote_count                                                         257\n",
      "genre                                             ['Drama', 'Romance']\n",
      "overview             Betty Blue, a mentally unbalanced and sexually...\n",
      "revenue                                                    2.00382e+06\n",
      "runtime                                                            185\n",
      "tagline                                                            NaN\n",
      "Name: 1385, dtype: object\n",
      "\n",
      "This French movie, ranks #282 out of 10017 movies in the dataset based on popularity.\n"
     ]
    }
   ],
   "source": [
    "french_movies_df = assignment[(assignment['original_language'] == 'fr')]\n",
    "longest_runtime_movie = french_movies_df.loc[french_movies_df['runtime'].idxmax()]\n",
    "print(\"French movie with the longest runtime:\")\n",
    "print(longest_runtime_movie)\n",
    "total_movies = len(assignment)\n",
    "runtime_rank = (french_movies_df['popularity'] > longest_runtime_movie['popularity']).sum() + 1\n",
    "print(f\"\\nThis French movie, ranks #{runtime_rank} out of {total_movies} movies in the dataset based on popularity.\")\n"
   ]
  },
  {
   "cell_type": "code",
   "execution_count": null,
   "metadata": {
    "collapsed": true
   },
   "outputs": [],
   "source": []
  }
 ],
 "metadata": {
  "kernelspec": {
   "display_name": "Python 3",
   "language": "python",
   "name": "python3"
  },
  "language_info": {
   "codemirror_mode": {
    "name": "ipython",
    "version": 3
   },
   "file_extension": ".py",
   "mimetype": "text/x-python",
   "name": "python",
   "nbconvert_exporter": "python",
   "pygments_lexer": "ipython3",
   "version": "3.6.2"
  }
 },
 "nbformat": 4,
 "nbformat_minor": 2
}
